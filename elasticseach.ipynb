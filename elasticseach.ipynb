{
 "cells": [
  {
   "cell_type": "code",
   "execution_count": 1,
   "metadata": {
    "collapsed": true
   },
   "outputs": [],
   "source": [
    "import csv\n",
    "list = []\n",
    "with open('IA/validation_set.csv', 'rb') as csvfile:\n",
    "    spamreader = csv.reader(csvfile, delimiter=';')\n",
    "    for row in spamreader:\n",
    "        list.append(row)"
   ]
  },
  {
   "cell_type": "code",
   "execution_count": 2,
   "metadata": {
    "collapsed": false
   },
   "outputs": [],
   "source": [
    "import wikipedia\n",
    "def wiki_summary(word):\n",
    "    \n",
    "    z = []\n",
    "    \n",
    "    words_search = wikipedia.search(word)\n",
    "    for word in words_search:\n",
    "        try:\n",
    "            z.extend([(word, wikipedia.summary(word))])\n",
    "        except wikipedia.exceptions.DisambiguationError as e:\n",
    "            for w in [g for f,g in enumerate(e.options)]:\n",
    "                try :\n",
    "                    z.extend([(w, wiki_summary(w))]) \n",
    "                except:\n",
    "                    logging.error(\"Error\")\n",
    "     \n",
    "    return z\n",
    "\n",
    "def wiki_eval(row):\n",
    "\n",
    "    logging.info(row)\n",
    "\n",
    "    ReponseCorrecte = 1\n",
    "    Question = 2\n",
    "    QuestionListe = [3,4,5,6]\n",
    "\n",
    "    c = 0\n",
    "\n",
    "    for i in QuestionListe:\n",
    "        logging.info(i)\n",
    "\n",
    "        Resultat = wikipedia.search(row[i], results=3)\n",
    "\n",
    "        for m,j in enumerate(Resultat):\n",
    "\n",
    "            logging.info(j)\n",
    "            logging.info(m)\n",
    "            \n",
    "            \n",
    "            logging.info(z)\n",
    "            logging.info(c)\n",
    "            c += 1\n",
    "            wiki.append((i-3, row[i],z))\n",
    "    \n",
    "    return wiki"
   ]
  },
  {
   "cell_type": "code",
   "execution_count": 3,
   "metadata": {
    "collapsed": false
   },
   "outputs": [],
   "source": [
    "from datetime import datetime\n",
    "from elasticsearch import Elasticsearch\n",
    "es = Elasticsearch(['http://192.168.28.188:9200/'])"
   ]
  },
  {
   "cell_type": "code",
   "execution_count": null,
   "metadata": {
    "collapsed": false
   },
   "outputs": [],
   "source": [
    "import logging\n",
    "logging.basicConfig(level=logging.INFO)\n",
    "for row in list[1:500]:\n",
    "    for word in row[3:6]:\n",
    "        summary = wiki_summary(word)\n",
    "        for define in summary:\n",
    "            doc = {\n",
    "                'word': define[0],\n",
    "                'text':  define[1],\n",
    "                'timestamp': datetime.now(),\n",
    "                'dev': 'DEBUG',\n",
    "            }\n",
    "            logging.info(doc)\n",
    "            es.index(index=\"kaggle_wikipedia\", doc_type='summary', body=doc)   "
   ]
  },
  {
   "cell_type": "code",
   "execution_count": null,
   "metadata": {
    "collapsed": true
   },
   "outputs": [],
   "source": []
  }
 ],
 "metadata": {
  "kernelspec": {
   "display_name": "Python 2",
   "language": "python",
   "name": "python2"
  },
  "language_info": {
   "codemirror_mode": {
    "name": "ipython",
    "version": 2
   },
   "file_extension": ".py",
   "mimetype": "text/x-python",
   "name": "python",
   "nbconvert_exporter": "python",
   "pygments_lexer": "ipython2",
   "version": "2.7.9"
  }
 },
 "nbformat": 4,
 "nbformat_minor": 0
}
