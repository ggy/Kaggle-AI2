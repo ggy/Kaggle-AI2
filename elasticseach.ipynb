{
 "cells": [
  {
   "cell_type": "code",
   "execution_count": 2,
   "metadata": {
    "collapsed": false
   },
   "outputs": [],
   "source": [
    "import csv\n",
    "list = []\n",
    "with open('IA/validation_set.csv', 'rt', encoding='utf-8') as csvfile:\n",
    "    spamreader = csv.reader(csvfile, delimiter=';')\n",
    "    for row in spamreader:\n",
    "        list.append(row)"
   ]
  },
  {
   "cell_type": "code",
   "execution_count": 3,
   "metadata": {
    "collapsed": true
   },
   "outputs": [],
   "source": [
    "words = [word for row in list for word in row[3:6]]"
   ]
  },
  {
   "cell_type": "code",
   "execution_count": 5,
   "metadata": {
    "collapsed": false
   },
   "outputs": [],
   "source": [
    "words = set(words)"
   ]
  },
  {
   "cell_type": "markdown",
   "metadata": {},
   "source": [
    "##### words"
   ]
  },
  {
   "cell_type": "code",
   "execution_count": 7,
   "metadata": {
    "collapsed": false
   },
   "outputs": [
    {
     "data": {
      "text/plain": [
       "6687"
      ]
     },
     "execution_count": 7,
     "metadata": {},
     "output_type": "execute_result"
    }
   ],
   "source": [
    "len(words)"
   ]
  },
  {
   "cell_type": "code",
   "execution_count": 12,
   "metadata": {
    "collapsed": false
   },
   "outputs": [],
   "source": [
    "import wikipedia\n",
    "def wiki_summary(word):\n",
    "    \n",
    "    z = []\n",
    "    \n",
    "    words_search = wikipedia.search(word)\n",
    "    for word in words_search:\n",
    "        try:\n",
    "            z.extend([(word, wikipedia.summary(word))])\n",
    "        except wikipedia.exceptions.DisambiguationError as e:\n",
    "            for w in [g for f,g in enumerate(e.options)]:\n",
    "                try :\n",
    "                    z.extend([(w, wiki_summary(w))]) \n",
    "                except:\n",
    "                    pass\n",
    "     \n",
    "    return z\n",
    "\n",
    "def wiki_eval(word):\n",
    "\n",
    "    c = 0\n",
    "\n",
    "    for i in QuestionListe:\n",
    "   \n",
    "        try:\n",
    "            Resultat = wikipedia.search(row[i], results=3)\n",
    "        except:\n",
    "            pass\n",
    "        \n",
    "        for m,j in enumerate(Resultat):\n",
    "\n",
    "            c += 1\n",
    "            wiki.append((i-3, row[i],z))\n",
    "    \n",
    "    return wiki"
   ]
  },
  {
   "cell_type": "code",
   "execution_count": 13,
   "metadata": {
    "collapsed": false
   },
   "outputs": [],
   "source": [
    "from datetime import datetime\n",
    "from elasticsearch import Elasticsearch\n",
    "es = Elasticsearch(['http://localhost:9200/'])"
   ]
  },
  {
   "cell_type": "code",
   "execution_count": null,
   "metadata": {
    "collapsed": false
   },
   "outputs": [],
   "source": [
    "for word in words:\n",
    "    try:\n",
    "        summary = wiki_summary(word)\n",
    "    except:\n",
    "        pass\n",
    "    \n",
    "    for define in summary:\n",
    "        doc = {\n",
    "                'word': define[0],\n",
    "                'text':  define[1],\n",
    "                'timestamp': datetime.now(),\n",
    "                'dev': 'DEBUG',\n",
    "            }\n",
    "\n",
    "        es.index(index=\"kwikipedia\", doc_type='summary', body=doc)   "
   ]
  },
  {
   "cell_type": "code",
   "execution_count": null,
   "metadata": {
    "collapsed": true
   },
   "outputs": [],
   "source": []
  }
 ],
 "metadata": {
  "kernelspec": {
   "display_name": "Python 3",
   "language": "python",
   "name": "python3"
  },
  "language_info": {
   "codemirror_mode": {
    "name": "ipython",
    "version": 3
   },
   "file_extension": ".py",
   "mimetype": "text/x-python",
   "name": "python",
   "nbconvert_exporter": "python",
   "pygments_lexer": "ipython3",
   "version": "3.4.3+"
  }
 },
 "nbformat": 4,
 "nbformat_minor": 0
}
