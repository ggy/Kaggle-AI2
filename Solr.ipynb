{
 "cells": [
  {
   "cell_type": "code",
   "execution_count": 3,
   "metadata": {
    "collapsed": false
   },
   "outputs": [
    {
     "name": "stderr",
     "output_type": "stream",
     "text": [
      "ERROR:pysolr:[Reason: None]\n",
      "<html><head><meta http-equiv=\"Content-Type\" content=\"text/html; charset=UTF-8\"/><title>Error 404 Not Found</title></head><body><h2>HTTP ERROR 404</h2><p>Problem accessing /solr/update/. Reason:<pre>    Not Found</pre></p><hr><i><small>Powered by Jetty://</small></i><hr/></body></html>\n"
     ]
    },
    {
     "ename": "SolrError",
     "evalue": "[Reason: None]\n<html><head><meta http-equiv=\"Content-Type\" content=\"text/html; charset=UTF-8\"/><title>Error 404 Not Found</title></head><body><h2>HTTP ERROR 404</h2><p>Problem accessing /solr/update/. Reason:<pre>    Not Found</pre></p><hr><i><small>Powered by Jetty://</small></i><hr/></body></html>",
     "output_type": "error",
     "traceback": [
      "\u001b[1;31m---------------------------------------------------------------------------\u001b[0m",
      "\u001b[1;31mSolrError\u001b[0m                                 Traceback (most recent call last)",
      "\u001b[1;32m<ipython-input-3-30c389944918>\u001b[0m in \u001b[0;36m<module>\u001b[1;34m()\u001b[0m\n\u001b[0;32m     14\u001b[0m     {\n\u001b[0;32m     15\u001b[0m         \u001b[1;34m\"id\"\u001b[0m\u001b[1;33m:\u001b[0m \u001b[1;34m\"doc_2\"\u001b[0m\u001b[1;33m,\u001b[0m\u001b[1;33m\u001b[0m\u001b[0m\n\u001b[1;32m---> 16\u001b[1;33m         \u001b[1;34m\"title\"\u001b[0m\u001b[1;33m:\u001b[0m \u001b[1;34m\"The Banana: Tasty or Dangerous\"\u001b[0m\u001b[1;33m,\u001b[0m\u001b[1;33m\u001b[0m\u001b[0m\n\u001b[0m\u001b[0;32m     17\u001b[0m     },\n\u001b[0;32m     18\u001b[0m ])\n",
      "\u001b[1;32mC:\\Python27\\lib\\site-packages\\pysolr.pyc\u001b[0m in \u001b[0;36madd\u001b[1;34m(self, docs, boost, fieldUpdates, commit, softCommit, commitWithin, waitFlush, waitSearcher)\u001b[0m\n\u001b[0;32m    818\u001b[0m         \u001b[0mend_time\u001b[0m \u001b[1;33m=\u001b[0m \u001b[0mtime\u001b[0m\u001b[1;33m.\u001b[0m\u001b[0mtime\u001b[0m\u001b[1;33m(\u001b[0m\u001b[1;33m)\u001b[0m\u001b[1;33m\u001b[0m\u001b[0m\n\u001b[0;32m    819\u001b[0m         \u001b[0mself\u001b[0m\u001b[1;33m.\u001b[0m\u001b[0mlog\u001b[0m\u001b[1;33m.\u001b[0m\u001b[0mdebug\u001b[0m\u001b[1;33m(\u001b[0m\u001b[1;34m\"Built add request of %s docs in %0.2f seconds.\"\u001b[0m\u001b[1;33m,\u001b[0m \u001b[0mlen\u001b[0m\u001b[1;33m(\u001b[0m\u001b[0mmessage\u001b[0m\u001b[1;33m)\u001b[0m\u001b[1;33m,\u001b[0m \u001b[0mend_time\u001b[0m \u001b[1;33m-\u001b[0m \u001b[0mstart_time\u001b[0m\u001b[1;33m)\u001b[0m\u001b[1;33m\u001b[0m\u001b[0m\n\u001b[1;32m--> 820\u001b[1;33m         \u001b[1;32mreturn\u001b[0m \u001b[0mself\u001b[0m\u001b[1;33m.\u001b[0m\u001b[0m_update\u001b[0m\u001b[1;33m(\u001b[0m\u001b[0mm\u001b[0m\u001b[1;33m,\u001b[0m \u001b[0mcommit\u001b[0m\u001b[1;33m=\u001b[0m\u001b[0mcommit\u001b[0m\u001b[1;33m,\u001b[0m \u001b[0msoftCommit\u001b[0m\u001b[1;33m=\u001b[0m\u001b[0msoftCommit\u001b[0m\u001b[1;33m,\u001b[0m \u001b[0mwaitFlush\u001b[0m\u001b[1;33m=\u001b[0m\u001b[0mwaitFlush\u001b[0m\u001b[1;33m,\u001b[0m \u001b[0mwaitSearcher\u001b[0m\u001b[1;33m=\u001b[0m\u001b[0mwaitSearcher\u001b[0m\u001b[1;33m)\u001b[0m\u001b[1;33m\u001b[0m\u001b[0m\n\u001b[0m\u001b[0;32m    821\u001b[0m \u001b[1;33m\u001b[0m\u001b[0m\n\u001b[0;32m    822\u001b[0m     \u001b[1;32mdef\u001b[0m \u001b[0mdelete\u001b[0m\u001b[1;33m(\u001b[0m\u001b[0mself\u001b[0m\u001b[1;33m,\u001b[0m \u001b[0mid\u001b[0m\u001b[1;33m=\u001b[0m\u001b[0mNone\u001b[0m\u001b[1;33m,\u001b[0m \u001b[0mq\u001b[0m\u001b[1;33m=\u001b[0m\u001b[0mNone\u001b[0m\u001b[1;33m,\u001b[0m \u001b[0mcommit\u001b[0m\u001b[1;33m=\u001b[0m\u001b[0mTrue\u001b[0m\u001b[1;33m,\u001b[0m \u001b[0mwaitFlush\u001b[0m\u001b[1;33m=\u001b[0m\u001b[0mNone\u001b[0m\u001b[1;33m,\u001b[0m \u001b[0mwaitSearcher\u001b[0m\u001b[1;33m=\u001b[0m\u001b[0mNone\u001b[0m\u001b[1;33m)\u001b[0m\u001b[1;33m:\u001b[0m\u001b[1;33m\u001b[0m\u001b[0m\n",
      "\u001b[1;32mC:\\Python27\\lib\\site-packages\\pysolr.pyc\u001b[0m in \u001b[0;36m_update\u001b[1;34m(self, message, clean_ctrl_chars, commit, softCommit, waitFlush, waitSearcher)\u001b[0m\n\u001b[0;32m    398\u001b[0m             \u001b[0mmessage\u001b[0m \u001b[1;33m=\u001b[0m \u001b[0msanitize\u001b[0m\u001b[1;33m(\u001b[0m\u001b[0mmessage\u001b[0m\u001b[1;33m)\u001b[0m\u001b[1;33m\u001b[0m\u001b[0m\n\u001b[0;32m    399\u001b[0m \u001b[1;33m\u001b[0m\u001b[0m\n\u001b[1;32m--> 400\u001b[1;33m         \u001b[1;32mreturn\u001b[0m \u001b[0mself\u001b[0m\u001b[1;33m.\u001b[0m\u001b[0m_send_request\u001b[0m\u001b[1;33m(\u001b[0m\u001b[1;34m'post'\u001b[0m\u001b[1;33m,\u001b[0m \u001b[0mpath\u001b[0m\u001b[1;33m,\u001b[0m \u001b[0mmessage\u001b[0m\u001b[1;33m,\u001b[0m \u001b[1;33m{\u001b[0m\u001b[1;34m'Content-type'\u001b[0m\u001b[1;33m:\u001b[0m \u001b[1;34m'text/xml; charset=utf-8'\u001b[0m\u001b[1;33m}\u001b[0m\u001b[1;33m)\u001b[0m\u001b[1;33m\u001b[0m\u001b[0m\n\u001b[0m\u001b[0;32m    401\u001b[0m \u001b[1;33m\u001b[0m\u001b[0m\n\u001b[0;32m    402\u001b[0m     \u001b[1;32mdef\u001b[0m \u001b[0m_extract_error\u001b[0m\u001b[1;33m(\u001b[0m\u001b[0mself\u001b[0m\u001b[1;33m,\u001b[0m \u001b[0mresp\u001b[0m\u001b[1;33m)\u001b[0m\u001b[1;33m:\u001b[0m\u001b[1;33m\u001b[0m\u001b[0m\n",
      "\u001b[1;32mC:\\Python27\\lib\\site-packages\\pysolr.pyc\u001b[0m in \u001b[0;36m_send_request\u001b[1;34m(self, method, path, body, headers, files)\u001b[0m\n\u001b[0;32m    330\u001b[0m             self.log.error(error_message, extra={'data': {'headers': resp.headers,\n\u001b[0;32m    331\u001b[0m                                                           'response': resp.content}})\n\u001b[1;32m--> 332\u001b[1;33m             \u001b[1;32mraise\u001b[0m \u001b[0mSolrError\u001b[0m\u001b[1;33m(\u001b[0m\u001b[0merror_message\u001b[0m\u001b[1;33m)\u001b[0m\u001b[1;33m\u001b[0m\u001b[0m\n\u001b[0m\u001b[0;32m    333\u001b[0m \u001b[1;33m\u001b[0m\u001b[0m\n\u001b[0;32m    334\u001b[0m         \u001b[1;32mreturn\u001b[0m \u001b[0mforce_unicode\u001b[0m\u001b[1;33m(\u001b[0m\u001b[0mresp\u001b[0m\u001b[1;33m.\u001b[0m\u001b[0mcontent\u001b[0m\u001b[1;33m)\u001b[0m\u001b[1;33m\u001b[0m\u001b[0m\n",
      "\u001b[1;31mSolrError\u001b[0m: [Reason: None]\n<html><head><meta http-equiv=\"Content-Type\" content=\"text/html; charset=UTF-8\"/><title>Error 404 Not Found</title></head><body><h2>HTTP ERROR 404</h2><p>Problem accessing /solr/update/. Reason:<pre>    Not Found</pre></p><hr><i><small>Powered by Jetty://</small></i><hr/></body></html>"
     ]
    }
   ],
   "source": [
    "# If on Python 2.X\n",
    "from __future__ import print_function\n",
    "import pysolr\n",
    "\n",
    "# Setup a Solr instance. The timeout is optional.\n",
    "solr = pysolr.Solr('http://localhost:8983/solr/', timeout=10)\n",
    "\n",
    "# How you'd index data.\n",
    "solr.add([\n",
    "    {\n",
    "        \"id\": \"doc_1\",\n",
    "        \"title\": \"A test document\",\n",
    "    },\n",
    "    {\n",
    "        \"id\": \"doc_2\",\n",
    "        \"title\": \"The Banana: Tasty or Dangerous\",\n",
    "    },\n",
    "])\n",
    "\n",
    "# You can optimize the index when it gets fragmented, for better speed.\n",
    "solr.optimize()\n",
    "\n",
    "# Later, searching is easy. In the simple case, just a plain Lucene-style\n",
    "# query is fine.\n",
    "results = solr.search('bananas')\n",
    "\n",
    "# The ``Results`` object stores total results found, by default the top\n",
    "# ten most relevant results and any additional data like\n",
    "# facets/highlighting/spelling/etc.\n",
    "print(\"Saw {0} result(s).\".format(len(results)))\n",
    "\n",
    "# Just loop over it to access the results.\n",
    "for result in results:\n",
    "    print(\"The title is '{0}'.\".format(result['title']))\n",
    "\n",
    "# For a more advanced query, say involving highlighting, you can pass\n",
    "# additional options to Solr.\n",
    "results = solr.search('bananas', **{\n",
    "    'hl': 'true',\n",
    "    'hl.fragsize': 10,\n",
    "})\n",
    "\n",
    "# You can also perform More Like This searches, if your Solr is configured\n",
    "# correctly.\n",
    "similar = solr.more_like_this(q='id:doc_2', mltfl='text')\n",
    "\n",
    "# Finally, you can delete either individual documents...\n",
    "solr.delete(id='doc_1')\n",
    "\n",
    "# ...or all documents.\n",
    "solr.delete(q='*:*')"
   ]
  },
  {
   "cell_type": "code",
   "execution_count": null,
   "metadata": {
    "collapsed": true
   },
   "outputs": [],
   "source": []
  }
 ],
 "metadata": {
  "kernelspec": {
   "display_name": "Python 2",
   "language": "python",
   "name": "python2"
  },
  "language_info": {
   "codemirror_mode": {
    "name": "ipython",
    "version": 2
   },
   "file_extension": ".py",
   "mimetype": "text/x-python",
   "name": "python",
   "nbconvert_exporter": "python",
   "pygments_lexer": "ipython2",
   "version": "2.7.10"
  }
 },
 "nbformat": 4,
 "nbformat_minor": 0
}
